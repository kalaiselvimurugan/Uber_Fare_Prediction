{
 "cells": [
  {
   "cell_type": "markdown",
   "metadata": {
    "_uuid": "ea234e3b39e30f36ac966f6118c4783e6f5b8a6d"
   },
   "source": [
    "train.csv - Input features and target fare_amount values for the training set (about 55M rows).\n",
    "test.csv - Input features for the test set (about 10K rows). Your goal is to predict fare_amount for each row."
   ]
  },
  {
   "cell_type": "code",
   "execution_count": 1,
   "metadata": {
    "_cell_guid": "b1076dfc-b9ad-4769-8c92-a6c4dae69d19",
    "_uuid": "8f2839f25d086af736a60e9eeb907d3b93b6e0e5"
   },
   "outputs": [],
   "source": [
    "import numpy as np # linear algebra\n",
    "import pandas as pd # data processing, CSV file I/O (e.g. pd.read_csv)"
   ]
  },
  {
   "cell_type": "code",
   "execution_count": 2,
   "metadata": {
    "_cell_guid": "79c7e3d0-c299-4dcb-8224-4455121ee9b0",
    "_uuid": "d629ff2d2480ee46fbb7e2d37f6b5fab8052498a"
   },
   "outputs": [
    {
     "name": "stdout",
     "output_type": "stream",
     "text": [
      "(200, 8)\n",
      "Index(['key', 'fare_amount', 'pickup_datetime', 'pickup_longitude',\n",
      "       'pickup_latitude', 'dropoff_longitude', 'dropoff_latitude',\n",
      "       'passenger_count'],\n",
      "      dtype='object')\n"
     ]
    }
   ],
   "source": [
    "train_df=pd.read_csv(r\"D:\\internship\\train_1.csv\\train.csv\",nrows=200)\n",
    "print (train_df.shape)\n",
    "print (train_df.columns)"
   ]
  },
  {
   "cell_type": "code",
   "execution_count": 3,
   "metadata": {
    "_uuid": "d147fe1dd2f231d845f76b37b0793c2852519dc1"
   },
   "outputs": [
    {
     "name": "stdout",
     "output_type": "stream",
     "text": [
      "<class 'pandas.core.frame.DataFrame'>\n",
      "RangeIndex: 200 entries, 0 to 199\n",
      "Data columns (total 8 columns):\n",
      "key                  200 non-null object\n",
      "fare_amount          200 non-null float64\n",
      "pickup_datetime      200 non-null object\n",
      "pickup_longitude     200 non-null float64\n",
      "pickup_latitude      200 non-null float64\n",
      "dropoff_longitude    200 non-null float64\n",
      "dropoff_latitude     200 non-null float64\n",
      "passenger_count      200 non-null int64\n",
      "dtypes: float64(5), int64(1), object(2)\n",
      "memory usage: 11.0+ KB\n"
     ]
    }
   ],
   "source": [
    "train_df.info()"
   ]
  },
  {
   "cell_type": "markdown",
   "metadata": {
    "_uuid": "41c1eca0811894cbfcd8dde24c6ab8eb9f9dace2"
   },
   "source": [
    "#here we can see there are 8columns in which 6 numerics and 2 are object.\n",
    "#Lets change the type of pickup_datetime from object to DateTime"
   ]
  },
  {
   "cell_type": "code",
   "execution_count": 4,
   "metadata": {
    "_uuid": "6d7cbf505a73faf920e99e9fbbdd7cd397ff47d6"
   },
   "outputs": [],
   "source": [
    "train_df[\"pickup_datetime\"]=pd.to_datetime(train_df['pickup_datetime'])"
   ]
  },
  {
   "cell_type": "code",
   "execution_count": 5,
   "metadata": {
    "_uuid": "a022f20581765594cde0cf0b0261d7564e22be8d"
   },
   "outputs": [
    {
     "data": {
      "text/html": [
       "<div>\n",
       "<style scoped>\n",
       "    .dataframe tbody tr th:only-of-type {\n",
       "        vertical-align: middle;\n",
       "    }\n",
       "\n",
       "    .dataframe tbody tr th {\n",
       "        vertical-align: top;\n",
       "    }\n",
       "\n",
       "    .dataframe thead th {\n",
       "        text-align: right;\n",
       "    }\n",
       "</style>\n",
       "<table border=\"1\" class=\"dataframe\">\n",
       "  <thead>\n",
       "    <tr style=\"text-align: right;\">\n",
       "      <th></th>\n",
       "      <th>key</th>\n",
       "      <th>fare_amount</th>\n",
       "      <th>pickup_datetime</th>\n",
       "      <th>pickup_longitude</th>\n",
       "      <th>pickup_latitude</th>\n",
       "      <th>dropoff_longitude</th>\n",
       "      <th>dropoff_latitude</th>\n",
       "      <th>passenger_count</th>\n",
       "    </tr>\n",
       "  </thead>\n",
       "  <tbody>\n",
       "    <tr>\n",
       "      <th>0</th>\n",
       "      <td>2009-06-15 17:26:21.0000001</td>\n",
       "      <td>4.5</td>\n",
       "      <td>2009-06-15 17:26:21+00:00</td>\n",
       "      <td>-73.844311</td>\n",
       "      <td>40.721319</td>\n",
       "      <td>-73.841610</td>\n",
       "      <td>40.712278</td>\n",
       "      <td>1</td>\n",
       "    </tr>\n",
       "    <tr>\n",
       "      <th>1</th>\n",
       "      <td>2010-01-05 16:52:16.0000002</td>\n",
       "      <td>16.9</td>\n",
       "      <td>2010-01-05 16:52:16+00:00</td>\n",
       "      <td>-74.016048</td>\n",
       "      <td>40.711303</td>\n",
       "      <td>-73.979268</td>\n",
       "      <td>40.782004</td>\n",
       "      <td>1</td>\n",
       "    </tr>\n",
       "    <tr>\n",
       "      <th>2</th>\n",
       "      <td>2011-08-18 00:35:00.00000049</td>\n",
       "      <td>5.7</td>\n",
       "      <td>2011-08-18 00:35:00+00:00</td>\n",
       "      <td>-73.982738</td>\n",
       "      <td>40.761270</td>\n",
       "      <td>-73.991242</td>\n",
       "      <td>40.750562</td>\n",
       "      <td>2</td>\n",
       "    </tr>\n",
       "    <tr>\n",
       "      <th>3</th>\n",
       "      <td>2012-04-21 04:30:42.0000001</td>\n",
       "      <td>7.7</td>\n",
       "      <td>2012-04-21 04:30:42+00:00</td>\n",
       "      <td>-73.987130</td>\n",
       "      <td>40.733143</td>\n",
       "      <td>-73.991567</td>\n",
       "      <td>40.758092</td>\n",
       "      <td>1</td>\n",
       "    </tr>\n",
       "    <tr>\n",
       "      <th>4</th>\n",
       "      <td>2010-03-09 07:51:00.000000135</td>\n",
       "      <td>5.3</td>\n",
       "      <td>2010-03-09 07:51:00+00:00</td>\n",
       "      <td>-73.968095</td>\n",
       "      <td>40.768008</td>\n",
       "      <td>-73.956655</td>\n",
       "      <td>40.783762</td>\n",
       "      <td>1</td>\n",
       "    </tr>\n",
       "  </tbody>\n",
       "</table>\n",
       "</div>"
      ],
      "text/plain": [
       "                             key  fare_amount           pickup_datetime  \\\n",
       "0    2009-06-15 17:26:21.0000001          4.5 2009-06-15 17:26:21+00:00   \n",
       "1    2010-01-05 16:52:16.0000002         16.9 2010-01-05 16:52:16+00:00   \n",
       "2   2011-08-18 00:35:00.00000049          5.7 2011-08-18 00:35:00+00:00   \n",
       "3    2012-04-21 04:30:42.0000001          7.7 2012-04-21 04:30:42+00:00   \n",
       "4  2010-03-09 07:51:00.000000135          5.3 2010-03-09 07:51:00+00:00   \n",
       "\n",
       "   pickup_longitude  pickup_latitude  dropoff_longitude  dropoff_latitude  \\\n",
       "0        -73.844311        40.721319         -73.841610         40.712278   \n",
       "1        -74.016048        40.711303         -73.979268         40.782004   \n",
       "2        -73.982738        40.761270         -73.991242         40.750562   \n",
       "3        -73.987130        40.733143         -73.991567         40.758092   \n",
       "4        -73.968095        40.768008         -73.956655         40.783762   \n",
       "\n",
       "   passenger_count  \n",
       "0                1  \n",
       "1                1  \n",
       "2                2  \n",
       "3                1  \n",
       "4                1  "
      ]
     },
     "execution_count": 5,
     "metadata": {},
     "output_type": "execute_result"
    }
   ],
   "source": [
    "train_df.head()"
   ]
  },
  {
   "cell_type": "markdown",
   "metadata": {
    "_uuid": "aa97117cb6693883d8b71c162e0b58ac58d12093"
   },
   "source": [
    "#As this is Taxi fare data and we know there are many factors which affect the price of taxi like \n",
    "1. Travelled distance\n",
    "2. Time of Travel\n",
    "3. Demand and Availability of Taxi\n",
    "4. Some special places are more costlier like Airport or other places where there might be toll"
   ]
  },
  {
   "cell_type": "code",
   "execution_count": 6,
   "metadata": {
    "_uuid": "75b3f903001aa633668543770eec62870b8b9e95"
   },
   "outputs": [],
   "source": [
    "#Lets see the statisitics of our data"
   ]
  },
  {
   "cell_type": "code",
   "execution_count": 6,
   "metadata": {
    "_uuid": "169c05b171c6f7d7b05af2cab69a6fc3ae0dce93"
   },
   "outputs": [
    {
     "data": {
      "text/html": [
       "<div>\n",
       "<style scoped>\n",
       "    .dataframe tbody tr th:only-of-type {\n",
       "        vertical-align: middle;\n",
       "    }\n",
       "\n",
       "    .dataframe tbody tr th {\n",
       "        vertical-align: top;\n",
       "    }\n",
       "\n",
       "    .dataframe thead th {\n",
       "        text-align: right;\n",
       "    }\n",
       "</style>\n",
       "<table border=\"1\" class=\"dataframe\">\n",
       "  <thead>\n",
       "    <tr style=\"text-align: right;\">\n",
       "      <th></th>\n",
       "      <th>fare_amount</th>\n",
       "      <th>pickup_longitude</th>\n",
       "      <th>pickup_latitude</th>\n",
       "      <th>dropoff_longitude</th>\n",
       "      <th>dropoff_latitude</th>\n",
       "      <th>passenger_count</th>\n",
       "    </tr>\n",
       "  </thead>\n",
       "  <tbody>\n",
       "    <tr>\n",
       "      <th>count</th>\n",
       "      <td>200.000000</td>\n",
       "      <td>200.000000</td>\n",
       "      <td>200.000000</td>\n",
       "      <td>200.000000</td>\n",
       "      <td>200.000000</td>\n",
       "      <td>200.000000</td>\n",
       "    </tr>\n",
       "    <tr>\n",
       "      <th>mean</th>\n",
       "      <td>11.088250</td>\n",
       "      <td>-72.129763</td>\n",
       "      <td>39.730607</td>\n",
       "      <td>-72.128149</td>\n",
       "      <td>39.731270</td>\n",
       "      <td>1.770000</td>\n",
       "    </tr>\n",
       "    <tr>\n",
       "      <th>std</th>\n",
       "      <td>8.691217</td>\n",
       "      <td>11.579020</td>\n",
       "      <td>6.377990</td>\n",
       "      <td>11.578776</td>\n",
       "      <td>6.378135</td>\n",
       "      <td>1.391684</td>\n",
       "    </tr>\n",
       "    <tr>\n",
       "      <th>min</th>\n",
       "      <td>3.300000</td>\n",
       "      <td>-74.035839</td>\n",
       "      <td>0.000000</td>\n",
       "      <td>-74.035839</td>\n",
       "      <td>0.000000</td>\n",
       "      <td>1.000000</td>\n",
       "    </tr>\n",
       "    <tr>\n",
       "      <th>25%</th>\n",
       "      <td>5.700000</td>\n",
       "      <td>-73.994132</td>\n",
       "      <td>40.733160</td>\n",
       "      <td>-73.992982</td>\n",
       "      <td>40.731490</td>\n",
       "      <td>1.000000</td>\n",
       "    </tr>\n",
       "    <tr>\n",
       "      <th>50%</th>\n",
       "      <td>8.500000</td>\n",
       "      <td>-73.982926</td>\n",
       "      <td>40.748692</td>\n",
       "      <td>-73.981733</td>\n",
       "      <td>40.751558</td>\n",
       "      <td>1.000000</td>\n",
       "    </tr>\n",
       "    <tr>\n",
       "      <th>75%</th>\n",
       "      <td>12.600000</td>\n",
       "      <td>-73.970148</td>\n",
       "      <td>40.763612</td>\n",
       "      <td>-73.969754</td>\n",
       "      <td>40.764677</td>\n",
       "      <td>2.000000</td>\n",
       "    </tr>\n",
       "    <tr>\n",
       "      <th>max</th>\n",
       "      <td>58.000000</td>\n",
       "      <td>0.000000</td>\n",
       "      <td>40.828531</td>\n",
       "      <td>0.000000</td>\n",
       "      <td>40.868610</td>\n",
       "      <td>6.000000</td>\n",
       "    </tr>\n",
       "  </tbody>\n",
       "</table>\n",
       "</div>"
      ],
      "text/plain": [
       "       fare_amount  pickup_longitude  pickup_latitude  dropoff_longitude  \\\n",
       "count   200.000000        200.000000       200.000000         200.000000   \n",
       "mean     11.088250        -72.129763        39.730607         -72.128149   \n",
       "std       8.691217         11.579020         6.377990          11.578776   \n",
       "min       3.300000        -74.035839         0.000000         -74.035839   \n",
       "25%       5.700000        -73.994132        40.733160         -73.992982   \n",
       "50%       8.500000        -73.982926        40.748692         -73.981733   \n",
       "75%      12.600000        -73.970148        40.763612         -73.969754   \n",
       "max      58.000000          0.000000        40.828531           0.000000   \n",
       "\n",
       "       dropoff_latitude  passenger_count  \n",
       "count        200.000000       200.000000  \n",
       "mean          39.731270         1.770000  \n",
       "std            6.378135         1.391684  \n",
       "min            0.000000         1.000000  \n",
       "25%           40.731490         1.000000  \n",
       "50%           40.751558         1.000000  \n",
       "75%           40.764677         2.000000  \n",
       "max           40.868610         6.000000  "
      ]
     },
     "execution_count": 6,
     "metadata": {},
     "output_type": "execute_result"
    }
   ],
   "source": [
    "train_df.describe()"
   ]
  },
  {
   "cell_type": "markdown",
   "metadata": {
    "_uuid": "b4c3758e2433a9eb6f85e8cf019cfec1f9b59447"
   },
   "source": [
    "#Here first thing which we can see is minimum value of fare is negative which is -62 which is not the valid value, so we need to remove the fare which are negative values.\n",
    "#Secondly, passenger_count minimum value is 0 and maximum value is 208 which impossible, so we need to remove them as well, for safer side we can think that a taxi can have maximum 7 people."
   ]
  },
  {
   "cell_type": "code",
   "execution_count": 6,
   "metadata": {
    "_uuid": "2c02effe0f2f19750e9d3cea43ad38cb3f6c4a8d"
   },
   "outputs": [
    {
     "data": {
      "text/plain": [
       "key                  0\n",
       "fare_amount          0\n",
       "pickup_datetime      0\n",
       "pickup_longitude     0\n",
       "pickup_latitude      0\n",
       "dropoff_longitude    0\n",
       "dropoff_latitude     0\n",
       "passenger_count      0\n",
       "dtype: int64"
      ]
     },
     "execution_count": 6,
     "metadata": {},
     "output_type": "execute_result"
    }
   ],
   "source": [
    "#Lets check if there is any null value\n",
    "train_df.isnull().sum()"
   ]
  },
  {
   "cell_type": "markdown",
   "metadata": {
    "_uuid": "91c5643a2c46842e8f3ccf212abe8fab7d4d6a6d"
   },
   "source": [
    "#Here we can see there are 14 null values in drop_off latitude and longitude. as removing 14 to 28 rows from our huge dataset will not affect our analysis so, lets remove the rows having null values \n"
   ]
  },
  {
   "cell_type": "code",
   "execution_count": 7,
   "metadata": {
    "_uuid": "7d3692414ee4abbebceb95847f1c52c3a6e349f1"
   },
   "outputs": [
    {
     "name": "stdout",
     "output_type": "stream",
     "text": [
      "key                  0\n",
      "fare_amount          0\n",
      "pickup_datetime      0\n",
      "pickup_longitude     0\n",
      "pickup_latitude      0\n",
      "dropoff_longitude    0\n",
      "dropoff_latitude     0\n",
      "passenger_count      0\n",
      "dtype: int64\n"
     ]
    }
   ],
   "source": [
    "train_df.dropna(inplace=True)\n",
    "print(train_df.isnull().sum())"
   ]
  },
  {
   "cell_type": "code",
   "execution_count": 8,
   "metadata": {
    "_uuid": "fadf2d0a278dff500227c74ab3bce290e89a0d89"
   },
   "outputs": [],
   "source": [
    "import matplotlib.pyplot as plt\n",
    "import seaborn as sns\n",
    "%matplotlib inline"
   ]
  },
  {
   "cell_type": "code",
   "execution_count": 9,
   "metadata": {
    "_uuid": "cfd7bf0b1bb15d21b3c6e522bfcaff70f8faeb7a"
   },
   "outputs": [
    {
     "data": {
      "text/plain": [
       "<matplotlib.axes._subplots.AxesSubplot at 0xa725090>"
      ]
     },
     "execution_count": 9,
     "metadata": {},
     "output_type": "execute_result"
    },
    {
     "data": {
      "image/png": "[encoded data removed]",
      "text/plain": [
       "<Figure size 432x288 with 1 Axes>"
      ]
     },
     "metadata": {
      "needs_background": "light"
     },
     "output_type": "display_data"
    }
   ],
   "source": [
    "sns.distplot(train_df['fare_amount'])"
   ]
  },
  {
   "cell_type": "markdown",
   "metadata": {
    "_uuid": "f144e2c0536648ea616077113187a9155f0fac48"
   },
   "source": [
    "#In distribution plot also it can be seen that there are some values which are negative fare"
   ]
  },
  {
   "cell_type": "code",
   "execution_count": 10,
   "metadata": {
    "_uuid": "9f420aa3eabe67dec8c13a8b7e2a90ceb3c2e916"
   },
   "outputs": [
    {
     "data": {
      "text/plain": [
       "<matplotlib.axes._subplots.AxesSubplot at 0xb78c250>"
      ]
     },
     "execution_count": 10,
     "metadata": {},
     "output_type": "execute_result"
    },
    {
     "data": {
      "image/png": "[encoded data removed]",
      "text/plain": [
       "<Figure size 432x288 with 1 Axes>"
      ]
     },
     "metadata": {
      "needs_background": "light"
     },
     "output_type": "display_data"
    }
   ],
   "source": [
    "sns.distplot(train_df['pickup_latitude'])"
   ]
  },
  {
   "cell_type": "markdown",
   "metadata": {
    "_uuid": "7cf318f7a82825b8e31676625ef2b34f2fedd579"
   },
   "source": [
    "#Here we can see minimum value is going to be less than even -3000 which is not correct value and also on positive side also going more than 2000"
   ]
  },
  {
   "cell_type": "code",
   "execution_count": 11,
   "metadata": {
    "_uuid": "943e184aa4ca6c6a118d7711c92dc7f7ebfb5165"
   },
   "outputs": [
    {
     "data": {
      "text/plain": [
       "<matplotlib.axes._subplots.AxesSubplot at 0xa717c50>"
      ]
     },
     "execution_count": 11,
     "metadata": {},
     "output_type": "execute_result"
    },
    {
     "data": {
      "image/png": "[encoded data removed]",
      "text/plain": [
       "<Figure size 432x288 with 1 Axes>"
      ]
     },
     "metadata": {
      "needs_background": "light"
     },
     "output_type": "display_data"
    }
   ],
   "source": [
    "sns.distplot(train_df['pickup_longitude'])"
   ]
  },
  {
   "cell_type": "markdown",
   "metadata": {
    "_uuid": "a2329450bda50358804c314fdeaa099bbff3fdd4"
   },
   "source": [
    "#Here also negative and positive values are excedding far behond the real limit."
   ]
  },
  {
   "cell_type": "code",
   "execution_count": 12,
   "metadata": {
    "_uuid": "fce23b66ce464f8e7113dad259355eab641cabe7"
   },
   "outputs": [
    {
     "data": {
      "text/plain": [
       "<matplotlib.axes._subplots.AxesSubplot at 0xb8fc990>"
      ]
     },
     "execution_count": 12,
     "metadata": {},
     "output_type": "execute_result"
    },
    {
     "data": {
      "image/png": "[encoded data removed]",
      "text/plain": [
       "<Figure size 432x288 with 1 Axes>"
      ]
     },
     "metadata": {
      "needs_background": "light"
     },
     "output_type": "display_data"
    }
   ],
   "source": [
    "sns.distplot(train_df['dropoff_longitude'])"
   ]
  },
  {
   "cell_type": "code",
   "execution_count": 15,
   "metadata": {
    "_uuid": "900d79c9b1fd7bff0621dd56bea29f0ee2bdb6a9"
   },
   "outputs": [],
   "source": [
    "#Similarly here also same issue"
   ]
  },
  {
   "cell_type": "code",
   "execution_count": 13,
   "metadata": {
    "_uuid": "ad56795f0e0ef06a135e19afe1b30fdaf33e349c"
   },
   "outputs": [
    {
     "data": {
      "text/plain": [
       "<matplotlib.axes._subplots.AxesSubplot at 0xb856ff0>"
      ]
     },
     "execution_count": 13,
     "metadata": {},
     "output_type": "execute_result"
    },
    {
     "data": {
      "image/png": "[encoded data removed]",
      "text/plain": [
       "<Figure size 432x288 with 1 Axes>"
      ]
     },
     "metadata": {
      "needs_background": "light"
     },
     "output_type": "display_data"
    }
   ],
   "source": [
    "sns.distplot(train_df['dropoff_latitude'])"
   ]
  },
  {
   "cell_type": "code",
   "execution_count": 17,
   "metadata": {
    "_uuid": "a02b9a4cc2811da70979d08a565fb8ec9eb8439b"
   },
   "outputs": [],
   "source": [
    "#here also we have noisy data as given value of dropoff_latitude and longitude are excedding"
   ]
  },
  {
   "cell_type": "code",
   "execution_count": 18,
   "metadata": {
    "_uuid": "a7c7d2585d4f9e6afb66ace4d90e62eec779bfd5"
   },
   "outputs": [],
   "source": [
    "#lets look min and max value in test dataset of latitude and longitude"
   ]
  },
  {
   "cell_type": "markdown",
   "metadata": {
    "_uuid": "0ea8a3155bfd6bb5c1f43281b843fa5739f26e57"
   },
   "source": [
    "#we can see what is range of latitude and longitude of our test dataset, lets keep the range same in our train set so that even noisy data is remove and we have only the values which belongs to new york"
   ]
  },
  {
   "cell_type": "code",
   "execution_count": 15,
   "metadata": {
    "_uuid": "035f9d6c57c377d4976ce525fc58065013d1dd3e"
   },
   "outputs": [],
   "source": [
    "min_longitude=-74.263242,\n",
    "min_latitude=40.573143,\n",
    "max_longitude=-72.986532, \n",
    "max_latitude=41.709555"
   ]
  },
  {
   "cell_type": "code",
   "execution_count": 21,
   "metadata": {
    "_uuid": "76b6cd872bafce33937935d52208d301b63a3acb"
   },
   "outputs": [],
   "source": [
    "#lets drop all the values which are not coming in above boundary, as those are noisy data"
   ]
  },
  {
   "cell_type": "code",
   "execution_count": 16,
   "metadata": {
    "_uuid": "ace948f6cdc60219fdd6b7aefacc46e9b761ac35"
   },
   "outputs": [
    {
     "name": "stdout",
     "output_type": "stream",
     "text": [
      "before droping (200, 8)\n",
      "after droping (195, 8)\n"
     ]
    }
   ],
   "source": [
    "tempdf=train_df[(train_df[\"dropoff_latitude\"]<min_latitude) | (train_df[\"pickup_latitude\"]<min_latitude) | (train_df[\"dropoff_longitude\"]<min_longitude) | (train_df[\"pickup_longitude\"]<min_longitude) | (train_df[\"dropoff_latitude\"]>max_latitude) | (train_df[\"pickup_latitude\"]>max_latitude) | (train_df[\"dropoff_longitude\"]>max_longitude) | (train_df[\"pickup_longitude\"]>max_longitude) ]\n",
    "print(\"before droping\",train_df.shape)\n",
    "train_df.drop(tempdf.index,inplace=True)\n",
    "print(\"after droping\",train_df.shape)"
   ]
  },
  {
   "cell_type": "code",
   "execution_count": 23,
   "metadata": {
    "_uuid": "5e4eba936559d548ad885db4977a1d40c2647ee1"
   },
   "outputs": [],
   "source": [
    "#lets remove all those rows where fare amount is negative"
   ]
  },
  {
   "cell_type": "code",
   "execution_count": 17,
   "metadata": {
    "_uuid": "6036f1eb730194573ba08a28a84f7336fa53c318"
   },
   "outputs": [
    {
     "name": "stdout",
     "output_type": "stream",
     "text": [
      "before droping (195, 8)\n",
      "after droping (195, 8)\n"
     ]
    }
   ],
   "source": [
    "print(\"before droping\", train_df.shape)\n",
    "train_df=train_df[train_df['fare_amount']>0]\n",
    "print(\"after droping\", train_df.shape)"
   ]
  },
  {
   "cell_type": "markdown",
   "metadata": {
    "_uuid": "8e1f3fd7710a17c6bc2819e7d2fdedf950ebd390"
   },
   "source": [
    "#On different day and time there would be different price like during eveing price would be more compare to afternoon, during christmas price would be different and similarly on weekends price would be different compare to week days. so lets create some extra features which will take care of all these things"
   ]
  },
  {
   "cell_type": "code",
   "execution_count": 18,
   "metadata": {
    "_uuid": "a9217f19845dae11e287a083b5de58e88262d88d"
   },
   "outputs": [],
   "source": [
    "import calendar\n",
    "train_df['day']=train_df['pickup_datetime'].apply(lambda x:x.day)\n",
    "train_df['hour']=train_df['pickup_datetime'].apply(lambda x:x.hour)\n",
    "train_df['weekday']=train_df['pickup_datetime'].apply(lambda x:calendar.day_name[x.weekday()])\n",
    "train_df['month']=train_df['pickup_datetime'].apply(lambda x:x.month)\n",
    "train_df['year']=train_df['pickup_datetime'].apply(lambda x:x.year)"
   ]
  },
  {
   "cell_type": "code",
   "execution_count": 19,
   "metadata": {
    "_uuid": "6b9853773bd33b4e6efbadee7e5e35644743b6ba"
   },
   "outputs": [
    {
     "data": {
      "text/html": [
       "<div>\n",
       "<style scoped>\n",
       "    .dataframe tbody tr th:only-of-type {\n",
       "        vertical-align: middle;\n",
       "    }\n",
       "\n",
       "    .dataframe tbody tr th {\n",
       "        vertical-align: top;\n",
       "    }\n",
       "\n",
       "    .dataframe thead th {\n",
       "        text-align: right;\n",
       "    }\n",
       "</style>\n",
       "<table border=\"1\" class=\"dataframe\">\n",
       "  <thead>\n",
       "    <tr style=\"text-align: right;\">\n",
       "      <th></th>\n",
       "      <th>key</th>\n",
       "      <th>fare_amount</th>\n",
       "      <th>pickup_datetime</th>\n",
       "      <th>pickup_longitude</th>\n",
       "      <th>pickup_latitude</th>\n",
       "      <th>dropoff_longitude</th>\n",
       "      <th>dropoff_latitude</th>\n",
       "      <th>passenger_count</th>\n",
       "      <th>day</th>\n",
       "      <th>hour</th>\n",
       "      <th>weekday</th>\n",
       "      <th>month</th>\n",
       "      <th>year</th>\n",
       "    </tr>\n",
       "  </thead>\n",
       "  <tbody>\n",
       "    <tr>\n",
       "      <th>0</th>\n",
       "      <td>2009-06-15 17:26:21.0000001</td>\n",
       "      <td>4.5</td>\n",
       "      <td>2009-06-15 17:26:21+00:00</td>\n",
       "      <td>-73.844311</td>\n",
       "      <td>40.721319</td>\n",
       "      <td>-73.841610</td>\n",
       "      <td>40.712278</td>\n",
       "      <td>1</td>\n",
       "      <td>15</td>\n",
       "      <td>17</td>\n",
       "      <td>Monday</td>\n",
       "      <td>6</td>\n",
       "      <td>2009</td>\n",
       "    </tr>\n",
       "    <tr>\n",
       "      <th>1</th>\n",
       "      <td>2010-01-05 16:52:16.0000002</td>\n",
       "      <td>16.9</td>\n",
       "      <td>2010-01-05 16:52:16+00:00</td>\n",
       "      <td>-74.016048</td>\n",
       "      <td>40.711303</td>\n",
       "      <td>-73.979268</td>\n",
       "      <td>40.782004</td>\n",
       "      <td>1</td>\n",
       "      <td>5</td>\n",
       "      <td>16</td>\n",
       "      <td>Tuesday</td>\n",
       "      <td>1</td>\n",
       "      <td>2010</td>\n",
       "    </tr>\n",
       "    <tr>\n",
       "      <th>2</th>\n",
       "      <td>2011-08-18 00:35:00.00000049</td>\n",
       "      <td>5.7</td>\n",
       "      <td>2011-08-18 00:35:00+00:00</td>\n",
       "      <td>-73.982738</td>\n",
       "      <td>40.761270</td>\n",
       "      <td>-73.991242</td>\n",
       "      <td>40.750562</td>\n",
       "      <td>2</td>\n",
       "      <td>18</td>\n",
       "      <td>0</td>\n",
       "      <td>Thursday</td>\n",
       "      <td>8</td>\n",
       "      <td>2011</td>\n",
       "    </tr>\n",
       "    <tr>\n",
       "      <th>3</th>\n",
       "      <td>2012-04-21 04:30:42.0000001</td>\n",
       "      <td>7.7</td>\n",
       "      <td>2012-04-21 04:30:42+00:00</td>\n",
       "      <td>-73.987130</td>\n",
       "      <td>40.733143</td>\n",
       "      <td>-73.991567</td>\n",
       "      <td>40.758092</td>\n",
       "      <td>1</td>\n",
       "      <td>21</td>\n",
       "      <td>4</td>\n",
       "      <td>Saturday</td>\n",
       "      <td>4</td>\n",
       "      <td>2012</td>\n",
       "    </tr>\n",
       "    <tr>\n",
       "      <th>4</th>\n",
       "      <td>2010-03-09 07:51:00.000000135</td>\n",
       "      <td>5.3</td>\n",
       "      <td>2010-03-09 07:51:00+00:00</td>\n",
       "      <td>-73.968095</td>\n",
       "      <td>40.768008</td>\n",
       "      <td>-73.956655</td>\n",
       "      <td>40.783762</td>\n",
       "      <td>1</td>\n",
       "      <td>9</td>\n",
       "      <td>7</td>\n",
       "      <td>Tuesday</td>\n",
       "      <td>3</td>\n",
       "      <td>2010</td>\n",
       "    </tr>\n",
       "  </tbody>\n",
       "</table>\n",
       "</div>"
      ],
      "text/plain": [
       "                             key  fare_amount           pickup_datetime  \\\n",
       "0    2009-06-15 17:26:21.0000001          4.5 2009-06-15 17:26:21+00:00   \n",
       "1    2010-01-05 16:52:16.0000002         16.9 2010-01-05 16:52:16+00:00   \n",
       "2   2011-08-18 00:35:00.00000049          5.7 2011-08-18 00:35:00+00:00   \n",
       "3    2012-04-21 04:30:42.0000001          7.7 2012-04-21 04:30:42+00:00   \n",
       "4  2010-03-09 07:51:00.000000135          5.3 2010-03-09 07:51:00+00:00   \n",
       "\n",
       "   pickup_longitude  pickup_latitude  dropoff_longitude  dropoff_latitude  \\\n",
       "0        -73.844311        40.721319         -73.841610         40.712278   \n",
       "1        -74.016048        40.711303         -73.979268         40.782004   \n",
       "2        -73.982738        40.761270         -73.991242         40.750562   \n",
       "3        -73.987130        40.733143         -73.991567         40.758092   \n",
       "4        -73.968095        40.768008         -73.956655         40.783762   \n",
       "\n",
       "   passenger_count  day  hour   weekday  month  year  \n",
       "0                1   15    17    Monday      6  2009  \n",
       "1                1    5    16   Tuesday      1  2010  \n",
       "2                2   18     0  Thursday      8  2011  \n",
       "3                1   21     4  Saturday      4  2012  \n",
       "4                1    9     7   Tuesday      3  2010  "
      ]
     },
     "execution_count": 19,
     "metadata": {},
     "output_type": "execute_result"
    }
   ],
   "source": [
    "train_df.head()"
   ]
  },
  {
   "cell_type": "code",
   "execution_count": 27,
   "metadata": {
    "_uuid": "be64496f730165df2ab61fddbab33bdeeb0ed3ec"
   },
   "outputs": [],
   "source": [
    "#here we can see that week are in monday , tuesday and so on. So we need convert them in numerical for"
   ]
  },
  {
   "cell_type": "code",
   "execution_count": 20,
   "metadata": {
    "_uuid": "f4a55781053332c5b9d4729adff19c427b6493b6"
   },
   "outputs": [],
   "source": [
    "train_df.weekday = train_df.weekday.map({'Sunday':0,'Monday':1,'Tuesday':2,'Wednesday':3,'Thursday':4,'Friday':5,'Saturday':6})"
   ]
  },
  {
   "cell_type": "code",
   "execution_count": 58,
   "metadata": {
    "_uuid": "9c9fcdb027e9d0429a87c427abe59605e7289f71"
   },
   "outputs": [
    {
     "name": "stdout",
     "output_type": "stream",
     "text": [
      "<class 'pandas.core.frame.DataFrame'>\n",
      "Int64Index: 195 entries, 0 to 199\n",
      "Data columns (total 13 columns):\n",
      "key                  195 non-null object\n",
      "fare_amount          195 non-null float64\n",
      "pickup_datetime      195 non-null datetime64[ns, UTC]\n",
      "pickup_longitude     195 non-null float64\n",
      "pickup_latitude      195 non-null float64\n",
      "dropoff_longitude    195 non-null float64\n",
      "dropoff_latitude     195 non-null float64\n",
      "passenger_count      195 non-null int64\n",
      "day                  195 non-null int64\n",
      "hour                 195 non-null int64\n",
      "weekday              195 non-null int64\n",
      "month                195 non-null int64\n",
      "year                 195 non-null int64\n",
      "dtypes: datetime64[ns, UTC](1), float64(5), int64(6), object(1)\n",
      "memory usage: 20.6+ KB\n"
     ]
    }
   ],
   "source": [
    "train_df.info()"
   ]
  },
  {
   "cell_type": "code",
   "execution_count": 30,
   "metadata": {
    "_uuid": "0fd0206c52af2a3b18669051f24c739931b098ff"
   },
   "outputs": [],
   "source": [
    "# we will keep only those rows where number of passangers are less than or equal to 8"
   ]
  },
  {
   "cell_type": "code",
   "execution_count": 21,
   "metadata": {
    "_uuid": "2fe4f7192523051fe6f73e793c0eab8add86fc31"
   },
   "outputs": [],
   "source": [
    "train_df=train_df[train_df['passenger_count']<=8]"
   ]
  },
  {
   "cell_type": "code",
   "execution_count": 23,
   "metadata": {
    "_uuid": "d450e07d73bb613eb71525ce6516f37085259c41"
   },
   "outputs": [
    {
     "name": "stdout",
     "output_type": "stream",
     "text": [
      "<class 'pandas.core.frame.DataFrame'>\n",
      "Int64Index: 195 entries, 0 to 199\n",
      "Data columns (total 13 columns):\n",
      "key                  195 non-null object\n",
      "fare_amount          195 non-null float64\n",
      "pickup_datetime      195 non-null datetime64[ns, UTC]\n",
      "pickup_longitude     195 non-null float64\n",
      "pickup_latitude      195 non-null float64\n",
      "dropoff_longitude    195 non-null float64\n",
      "dropoff_latitude     195 non-null float64\n",
      "passenger_count      195 non-null int64\n",
      "day                  195 non-null int64\n",
      "hour                 195 non-null int64\n",
      "weekday              195 non-null int64\n",
      "month                195 non-null int64\n",
      "year                 195 non-null int64\n",
      "dtypes: datetime64[ns, UTC](1), float64(5), int64(6), object(1)\n",
      "memory usage: 20.6+ KB\n"
     ]
    }
   ],
   "source": [
    "train_df.info()"
   ]
  },
  {
   "cell_type": "code",
   "execution_count": 33,
   "metadata": {
    "_uuid": "9f0f4e961d5ceb88e2d04521d24ff28fd063f65b"
   },
   "outputs": [],
   "source": [
    "#here key column and pickup_datetime columns are not needed as we have already created variables extracted from it"
   ]
  },
  {
   "cell_type": "code",
   "execution_count": 22,
   "metadata": {
    "_uuid": "b231f4da8c5d3e2fff0c8fe994671d78e2a13a2e"
   },
   "outputs": [],
   "source": [
    "train_df.drop([\"key\",\"pickup_datetime\"], axis=1, inplace=True)"
   ]
  },
  {
   "cell_type": "code",
   "execution_count": 16,
   "metadata": {
    "_uuid": "429c6a378bd88e95fd19f5900245f9b519796011"
   },
   "outputs": [
    {
     "name": "stdout",
     "output_type": "stream",
     "text": [
      "<class 'pandas.core.frame.DataFrame'>\n",
      "Int64Index: 195 entries, 0 to 199\n",
      "Data columns (total 11 columns):\n",
      "fare_amount          195 non-null float64\n",
      "pickup_longitude     195 non-null float64\n",
      "pickup_latitude      195 non-null float64\n",
      "dropoff_longitude    195 non-null float64\n",
      "dropoff_latitude     195 non-null float64\n",
      "passenger_count      195 non-null int64\n",
      "day                  195 non-null int64\n",
      "hour                 195 non-null int64\n",
      "weekday              195 non-null int64\n",
      "month                195 non-null int64\n",
      "year                 195 non-null int64\n",
      "dtypes: float64(5), int64(6)\n",
      "memory usage: 18.3 KB\n"
     ]
    }
   ],
   "source": [
    "train_df.info()"
   ]
  },
  {
   "cell_type": "markdown",
   "metadata": {
    "_uuid": "7dba2675870dc96034d08a54d99da4ef127cca82"
   },
   "source": [
    "#lets divide the data set into train and validation test set"
   ]
  },
  {
   "cell_type": "code",
   "execution_count": 23,
   "metadata": {
    "_uuid": "e2742c65d2fbb1f52b816d81fb6043549798c012"
   },
   "outputs": [],
   "source": [
    "from sklearn.model_selection import train_test_split"
   ]
  },
  {
   "cell_type": "code",
   "execution_count": 24,
   "metadata": {
    "_uuid": "b40eb1a374ab2b7aeb1074c5d477c4d2f13c08d7"
   },
   "outputs": [],
   "source": [
    "x=train_df.drop(\"fare_amount\", axis=1)"
   ]
  },
  {
   "cell_type": "code",
   "execution_count": 25,
   "metadata": {
    "_uuid": "1556cbdc793d8ebe67337e719de18ec2e3c9e11a"
   },
   "outputs": [],
   "source": [
    "y=train_df['fare_amount']"
   ]
  },
  {
   "cell_type": "code",
   "execution_count": 26,
   "metadata": {
    "_uuid": "956622189426a434440a043488a6679b98225084"
   },
   "outputs": [],
   "source": [
    "x_train,x_test,y_train,y_test = train_test_split(x,y,test_size=0.2,random_state=101)"
   ]
  },
  {
   "cell_type": "code",
   "execution_count": 27,
   "metadata": {
    "_uuid": "287f82f49de60631bab9c4cc33a81f67987f7ce0",
    "scrolled": true
   },
   "outputs": [
    {
     "data": {
      "text/html": [
       "<div>\n",
       "<style scoped>\n",
       "    .dataframe tbody tr th:only-of-type {\n",
       "        vertical-align: middle;\n",
       "    }\n",
       "\n",
       "    .dataframe tbody tr th {\n",
       "        vertical-align: top;\n",
       "    }\n",
       "\n",
       "    .dataframe thead th {\n",
       "        text-align: right;\n",
       "    }\n",
       "</style>\n",
       "<table border=\"1\" class=\"dataframe\">\n",
       "  <thead>\n",
       "    <tr style=\"text-align: right;\">\n",
       "      <th></th>\n",
       "      <th>pickup_longitude</th>\n",
       "      <th>pickup_latitude</th>\n",
       "      <th>dropoff_longitude</th>\n",
       "      <th>dropoff_latitude</th>\n",
       "      <th>passenger_count</th>\n",
       "      <th>day</th>\n",
       "      <th>hour</th>\n",
       "      <th>weekday</th>\n",
       "      <th>month</th>\n",
       "      <th>year</th>\n",
       "    </tr>\n",
       "  </thead>\n",
       "  <tbody>\n",
       "    <tr>\n",
       "      <th>83</th>\n",
       "      <td>-74.009728</td>\n",
       "      <td>40.705167</td>\n",
       "      <td>-73.970897</td>\n",
       "      <td>40.749307</td>\n",
       "      <td>1</td>\n",
       "      <td>8</td>\n",
       "      <td>21</td>\n",
       "      <td>1</td>\n",
       "      <td>7</td>\n",
       "      <td>2013</td>\n",
       "    </tr>\n",
       "    <tr>\n",
       "      <th>120</th>\n",
       "      <td>-73.972018</td>\n",
       "      <td>40.750142</td>\n",
       "      <td>-74.006008</td>\n",
       "      <td>40.736220</td>\n",
       "      <td>5</td>\n",
       "      <td>8</td>\n",
       "      <td>21</td>\n",
       "      <td>4</td>\n",
       "      <td>11</td>\n",
       "      <td>2012</td>\n",
       "    </tr>\n",
       "    <tr>\n",
       "      <th>174</th>\n",
       "      <td>-73.944023</td>\n",
       "      <td>40.775959</td>\n",
       "      <td>-73.955048</td>\n",
       "      <td>40.785080</td>\n",
       "      <td>1</td>\n",
       "      <td>27</td>\n",
       "      <td>7</td>\n",
       "      <td>5</td>\n",
       "      <td>2</td>\n",
       "      <td>2015</td>\n",
       "    </tr>\n",
       "    <tr>\n",
       "      <th>125</th>\n",
       "      <td>-73.971696</td>\n",
       "      <td>40.763378</td>\n",
       "      <td>-73.962035</td>\n",
       "      <td>40.776598</td>\n",
       "      <td>1</td>\n",
       "      <td>10</td>\n",
       "      <td>16</td>\n",
       "      <td>5</td>\n",
       "      <td>5</td>\n",
       "      <td>2013</td>\n",
       "    </tr>\n",
       "    <tr>\n",
       "      <th>4</th>\n",
       "      <td>-73.968095</td>\n",
       "      <td>40.768008</td>\n",
       "      <td>-73.956655</td>\n",
       "      <td>40.783762</td>\n",
       "      <td>1</td>\n",
       "      <td>9</td>\n",
       "      <td>7</td>\n",
       "      <td>2</td>\n",
       "      <td>3</td>\n",
       "      <td>2010</td>\n",
       "    </tr>\n",
       "  </tbody>\n",
       "</table>\n",
       "</div>"
      ],
      "text/plain": [
       "     pickup_longitude  pickup_latitude  dropoff_longitude  dropoff_latitude  \\\n",
       "83         -74.009728        40.705167         -73.970897         40.749307   \n",
       "120        -73.972018        40.750142         -74.006008         40.736220   \n",
       "174        -73.944023        40.775959         -73.955048         40.785080   \n",
       "125        -73.971696        40.763378         -73.962035         40.776598   \n",
       "4          -73.968095        40.768008         -73.956655         40.783762   \n",
       "\n",
       "     passenger_count  day  hour  weekday  month  year  \n",
       "83                 1    8    21        1      7  2013  \n",
       "120                5    8    21        4     11  2012  \n",
       "174                1   27     7        5      2  2015  \n",
       "125                1   10    16        5      5  2013  \n",
       "4                  1    9     7        2      3  2010  "
      ]
     },
     "execution_count": 27,
     "metadata": {},
     "output_type": "execute_result"
    }
   ],
   "source": [
    "x_train.head()"
   ]
  },
  {
   "cell_type": "code",
   "execution_count": 101,
   "metadata": {},
   "outputs": [
    {
     "data": {
      "text/plain": [
       "83     17.0\n",
       "120    11.5\n",
       "174    10.5\n",
       "125     5.0\n",
       "4       5.3\n",
       "Name: fare_amount, dtype: float64"
      ]
     },
     "execution_count": 101,
     "metadata": {},
     "output_type": "execute_result"
    }
   ],
   "source": [
    "y_train.head()"
   ]
  },
  {
   "cell_type": "code",
   "execution_count": 29,
   "metadata": {
    "_uuid": "e531761146442f01a63753d1be1c654bbe548096",
    "scrolled": true
   },
   "outputs": [
    {
     "data": {
      "text/html": [
       "<div>\n",
       "<style scoped>\n",
       "    .dataframe tbody tr th:only-of-type {\n",
       "        vertical-align: middle;\n",
       "    }\n",
       "\n",
       "    .dataframe tbody tr th {\n",
       "        vertical-align: top;\n",
       "    }\n",
       "\n",
       "    .dataframe thead th {\n",
       "        text-align: right;\n",
       "    }\n",
       "</style>\n",
       "<table border=\"1\" class=\"dataframe\">\n",
       "  <thead>\n",
       "    <tr style=\"text-align: right;\">\n",
       "      <th></th>\n",
       "      <th>pickup_longitude</th>\n",
       "      <th>pickup_latitude</th>\n",
       "      <th>dropoff_longitude</th>\n",
       "      <th>dropoff_latitude</th>\n",
       "      <th>passenger_count</th>\n",
       "      <th>day</th>\n",
       "      <th>hour</th>\n",
       "      <th>weekday</th>\n",
       "      <th>month</th>\n",
       "      <th>year</th>\n",
       "    </tr>\n",
       "  </thead>\n",
       "  <tbody>\n",
       "    <tr>\n",
       "      <th>42</th>\n",
       "      <td>-73.978450</td>\n",
       "      <td>40.762920</td>\n",
       "      <td>-74.008482</td>\n",
       "      <td>40.716502</td>\n",
       "      <td>1</td>\n",
       "      <td>22</td>\n",
       "      <td>8</td>\n",
       "      <td>5</td>\n",
       "      <td>11</td>\n",
       "      <td>2013</td>\n",
       "    </tr>\n",
       "    <tr>\n",
       "      <th>167</th>\n",
       "      <td>-73.954598</td>\n",
       "      <td>40.786760</td>\n",
       "      <td>-73.966013</td>\n",
       "      <td>40.768112</td>\n",
       "      <td>1</td>\n",
       "      <td>13</td>\n",
       "      <td>8</td>\n",
       "      <td>3</td>\n",
       "      <td>8</td>\n",
       "      <td>2014</td>\n",
       "    </tr>\n",
       "    <tr>\n",
       "      <th>64</th>\n",
       "      <td>-74.003919</td>\n",
       "      <td>40.753019</td>\n",
       "      <td>-73.992368</td>\n",
       "      <td>40.735362</td>\n",
       "      <td>1</td>\n",
       "      <td>7</td>\n",
       "      <td>10</td>\n",
       "      <td>1</td>\n",
       "      <td>11</td>\n",
       "      <td>2011</td>\n",
       "    </tr>\n",
       "    <tr>\n",
       "      <th>35</th>\n",
       "      <td>-73.983330</td>\n",
       "      <td>40.738720</td>\n",
       "      <td>-73.933197</td>\n",
       "      <td>40.847225</td>\n",
       "      <td>1</td>\n",
       "      <td>11</td>\n",
       "      <td>3</td>\n",
       "      <td>0</td>\n",
       "      <td>1</td>\n",
       "      <td>2015</td>\n",
       "    </tr>\n",
       "    <tr>\n",
       "      <th>127</th>\n",
       "      <td>-73.988492</td>\n",
       "      <td>40.717977</td>\n",
       "      <td>-73.978180</td>\n",
       "      <td>40.737407</td>\n",
       "      <td>1</td>\n",
       "      <td>6</td>\n",
       "      <td>21</td>\n",
       "      <td>1</td>\n",
       "      <td>1</td>\n",
       "      <td>2014</td>\n",
       "    </tr>\n",
       "  </tbody>\n",
       "</table>\n",
       "</div>"
      ],
      "text/plain": [
       "     pickup_longitude  pickup_latitude  dropoff_longitude  dropoff_latitude  \\\n",
       "42         -73.978450        40.762920         -74.008482         40.716502   \n",
       "167        -73.954598        40.786760         -73.966013         40.768112   \n",
       "64         -74.003919        40.753019         -73.992368         40.735362   \n",
       "35         -73.983330        40.738720         -73.933197         40.847225   \n",
       "127        -73.988492        40.717977         -73.978180         40.737407   \n",
       "\n",
       "     passenger_count  day  hour  weekday  month  year  \n",
       "42                 1   22     8        5     11  2013  \n",
       "167                1   13     8        3      8  2014  \n",
       "64                 1    7    10        1     11  2011  \n",
       "35                 1   11     3        0      1  2015  \n",
       "127                1    6    21        1      1  2014  "
      ]
     },
     "execution_count": 29,
     "metadata": {},
     "output_type": "execute_result"
    }
   ],
   "source": [
    "x_test.head()"
   ]
  },
  {
   "cell_type": "code",
   "execution_count": 100,
   "metadata": {},
   "outputs": [
    {
     "data": {
      "text/plain": [
       "42     17.5\n",
       "167     8.5\n",
       "64      7.3\n",
       "35     58.0\n",
       "127     8.0\n",
       "Name: fare_amount, dtype: float64"
      ]
     },
     "execution_count": 100,
     "metadata": {},
     "output_type": "execute_result"
    }
   ],
   "source": [
    "y_test.head()"
   ]
  },
  {
   "cell_type": "code",
   "execution_count": 44,
   "metadata": {
    "_uuid": "157368ddd5b3a894b1af95bfe310094afab6166b"
   },
   "outputs": [],
   "source": [
    "#Lets run the model.\n",
    "#As we have to build regression model, lets start with linear regression model"
   ]
  },
  {
   "cell_type": "code",
   "execution_count": 61,
   "metadata": {
    "_uuid": "4f5826932f167d8954ace3913dc4959536ea184b"
   },
   "outputs": [
    {
     "name": "stdout",
     "output_type": "stream",
     "text": [
      "RMSE value for Linear regression is 9.802436637397088\n"
     ]
    }
   ],
   "source": [
    "from sklearn.linear_model import LinearRegression\n",
    "lrmodel=LinearRegression()\n",
    "lrmodel.fit(x_train, y_train)\n",
    "#lets calculate rmse for linear Regression model\n",
    "from sklearn.metrics import mean_squared_error\n",
    "lrmodelrmse = np.sqrt(mean_squared_error(predictedvalues, y_test))\n",
    "print(\"RMSE value for Linear regression is\", lrmodelrmse)"
   ]
  },
  {
   "cell_type": "code",
   "execution_count": 79,
   "metadata": {},
   "outputs": [
    {
     "data": {
      "text/plain": [
       "0.019393537637162783"
      ]
     },
     "execution_count": 79,
     "metadata": {},
     "output_type": "execute_result"
    }
   ],
   "source": [
    "lrmodel.score(x_test,y_test)"
   ]
  },
  {
   "cell_type": "code",
   "execution_count": 56,
   "metadata": {},
   "outputs": [
    {
     "name": "stdout",
     "output_type": "stream",
     "text": [
      "RMSE value for Gradient Boosting Regressor is  7.843339364180108\n"
     ]
    }
   ],
   "source": [
    "from sklearn.ensemble import GradientBoostingRegressor\n",
    "gbrmodel = GradientBoostingRegressor(n_estimators=100, random_state=101)\n",
    "gbrmodel.fit(x_train,y_train)\n",
    "gbrmodel_pred= gbrmodel.predict(x_test)\n",
    "gbrmodel_rmse=np.sqrt(mean_squared_error(gbrmodel_pred, y_test))\n",
    "print(\"RMSE value for Gradient Boosting Regressor is \",gbrmodel_rmse)"
   ]
  },
  {
   "cell_type": "code",
   "execution_count": 76,
   "metadata": {
    "scrolled": true
   },
   "outputs": [
    {
     "data": {
      "text/plain": [
       "0.37218935337073167"
      ]
     },
     "execution_count": 76,
     "metadata": {},
     "output_type": "execute_result"
    }
   ],
   "source": [
    "gbrmodel.score(x_test,y_test)"
   ]
  },
  {
   "cell_type": "code",
   "execution_count": 60,
   "metadata": {
    "_uuid": "1ce0c568428cae8029ad4b4126e86c7ab03e50ad"
   },
   "outputs": [
    {
     "name": "stdout",
     "output_type": "stream",
     "text": [
      "RMSE value for Random forest regression is  7.666053053158853\n"
     ]
    }
   ],
   "source": [
    "#Lets see with Random Forest and calculate its rmse\n",
    "from sklearn.ensemble import RandomForestRegressor\n",
    "rfrmodel = RandomForestRegressor(n_estimators=100, random_state=101)\n",
    "rfrmodel.fit(x_train,y_train)\n",
    "rfrmodel_pred= rfrmodel.predict(x_test)\n",
    "rfrmodel_rmse=np.sqrt(mean_squared_error(rfrmodel_pred, y_test))\n",
    "print(\"RMSE value for Random forest regression is \",rfrmodel_rmse)"
   ]
  },
  {
   "cell_type": "code",
   "execution_count": 77,
   "metadata": {
    "scrolled": true
   },
   "outputs": [
    {
     "data": {
      "text/plain": [
       "0.4002499338870996"
      ]
     },
     "execution_count": 77,
     "metadata": {},
     "output_type": "execute_result"
    }
   ],
   "source": [
    "rfrmodel.score(x_test,y_test)"
   ]
  },
  {
   "cell_type": "code",
   "execution_count": 59,
   "metadata": {},
   "outputs": [
    {
     "name": "stdout",
     "output_type": "stream",
     "text": [
      "RMSE value for Extra Trees Regressor is  7.6546491410993704\n"
     ]
    }
   ],
   "source": [
    "from sklearn.ensemble import ExtraTreesRegressor\n",
    "etmodel = ExtraTreesRegressor(n_estimators=100, random_state=101)\n",
    "etmodel.fit(x_train,y_train)\n",
    "etmodel_pred= etmodel.predict(x_test)\n",
    "etmodel_rmse=np.sqrt(mean_squared_error(etmodel_pred, y_test))\n",
    "print(\"RMSE value for Extra Trees Regressor is \",etmodel_rmse)"
   ]
  },
  {
   "cell_type": "code",
   "execution_count": 78,
   "metadata": {},
   "outputs": [
    {
     "data": {
      "text/plain": [
       "0.4020329661188714"
      ]
     },
     "execution_count": 78,
     "metadata": {},
     "output_type": "execute_result"
    }
   ],
   "source": [
    "etmodel.score(x_test,y_test)"
   ]
  },
  {
   "cell_type": "code",
   "execution_count": 54,
   "metadata": {
    "scrolled": true
   },
   "outputs": [
    {
     "name": "stdout",
     "output_type": "stream",
     "text": [
      "RMSE value for Bagging Regressor is  7.551304700887194\n"
     ]
    }
   ],
   "source": [
    "from sklearn.ensemble import BaggingRegressor\n",
    "brmodel = BaggingRegressor(n_estimators=100, random_state=101)\n",
    "brmodel.fit(x_train,y_train)\n",
    "brmodel_pred= brmodel.predict(x_test)\n",
    "brmodel_rmse=np.sqrt(mean_squared_error(brmodel_pred, y_test))\n",
    "print(\"RMSE value for Bagging Regressor is \",brmodel_rmse)"
   ]
  },
  {
   "cell_type": "code",
   "execution_count": 75,
   "metadata": {
    "scrolled": true
   },
   "outputs": [
    {
     "data": {
      "text/plain": [
       "0.41807012561830736"
      ]
     },
     "execution_count": 75,
     "metadata": {},
     "output_type": "execute_result"
    }
   ],
   "source": [
    "brmodel.score(x_test,y_test)"
   ]
  },
  {
   "cell_type": "code",
   "execution_count": null,
   "metadata": {},
   "outputs": [],
   "source": [
    "#Bagging regressor gives a best result!"
   ]
  },
  {
   "cell_type": "code",
   "execution_count": 62,
   "metadata": {
    "_uuid": "f10f2d318fb94c3c7f785dee66dc2a3d4b796aee"
   },
   "outputs": [],
   "source": [
    "predictedvalues = brmodel.predict(x_test)"
   ]
  },
  {
   "cell_type": "code",
   "execution_count": 63,
   "metadata": {},
   "outputs": [
    {
     "data": {
      "text/plain": [
       "array([10.606 , 10.9482,  6.44  , 22.9641, 10.6284, 11.562 , 16.8187,\n",
       "        8.073 ,  6.872 , 17.3034, 10.302 ,  7.978 ,  8.6964, 18.6623,\n",
       "       11.484 ,  8.59  ,  5.953 ,  7.17  , 10.5547,  7.399 ,  8.146 ,\n",
       "        8.492 ,  7.399 ,  7.1417, 11.023 , 15.629 ,  6.737 ,  6.567 ,\n",
       "       22.1138, 15.7752, 14.4664,  6.48  , 11.341 ,  8.062 ,  9.085 ,\n",
       "        8.7637, 10.6194,  8.125 , 11.6004])"
      ]
     },
     "execution_count": 63,
     "metadata": {},
     "output_type": "execute_result"
    }
   ],
   "source": [
    "predictedvalues"
   ]
  },
  {
   "cell_type": "code",
   "execution_count": 64,
   "metadata": {},
   "outputs": [],
   "source": [
    "predictedvalues_train = brmodel.predict(x_train)"
   ]
  },
  {
   "cell_type": "code",
   "execution_count": 65,
   "metadata": {},
   "outputs": [
    {
     "data": {
      "text/plain": [
       "array([15.5514, 11.089 , 10.536 ,  6.549 ,  7.93  ,  5.971 , 16.995 ,\n",
       "        5.77  , 16.7588, 25.0069, 12.171 , 10.0707, 11.017 ,  5.8   ,\n",
       "       10.097 ,  9.588 ,  6.863 , 16.9494, 26.0936,  6.987 ,  7.8437,\n",
       "        5.622 , 35.7268, 10.756 ,  8.071 ,  7.601 ,  5.017 , 13.5784,\n",
       "       15.082 ,  7.201 , 12.075 , 11.662 ,  8.558 ,  6.412 ,  4.939 ,\n",
       "        6.556 ,  9.8325,  6.04  ,  7.2675,  6.252 ,  6.415 ,  8.497 ,\n",
       "        6.359 , 12.913 , 13.869 ,  5.444 , 29.5797,  6.564 ,  9.853 ,\n",
       "        7.351 ,  6.722 ,  6.483 , 10.985 ,  7.016 ,  9.4587,  6.395 ,\n",
       "        7.592 ,  5.3397,  7.864 ,  8.597 ,  7.394 , 22.086 ,  7.3954,\n",
       "       15.723 ,  8.2654,  9.781 ,  6.984 ,  8.297 ,  6.151 ,  7.706 ,\n",
       "       21.7238,  9.7408,  8.065 ,  7.733 , 26.423 , 12.356 ,  5.511 ,\n",
       "        7.0418,  9.899 ,  5.613 ,  4.62  ,  8.338 , 21.8234,  7.008 ,\n",
       "        9.442 ,  9.569 ,  8.252 ,  7.371 ,  6.408 ,  5.781 , 19.5143,\n",
       "        5.967 ,  6.424 ,  5.402 ,  7.091 ,  6.574 ,  6.324 ,  9.906 ,\n",
       "        8.2867,  9.131 ,  6.064 ,  9.164 ,  9.073 ,  5.731 , 14.3515,\n",
       "       15.838 , 45.016 ,  9.547 , 15.9979, 16.6817,  7.203 , 10.463 ,\n",
       "       10.615 ,  5.217 , 15.303 , 19.469 , 20.0609, 10.155 , 10.7044,\n",
       "        8.095 , 11.4171, 42.8943, 20.515 ,  8.883 ,  7.991 , 11.3927,\n",
       "        7.581 , 11.1154, 13.2024,  4.458 , 29.87  ,  5.81  ,  9.846 ,\n",
       "        5.456 , 29.048 , 10.3902, 14.726 , 11.793 ,  8.223 ,  7.127 ,\n",
       "        9.094 , 11.019 ,  9.0147,  8.55  ,  6.155 , 13.313 , 10.819 ,\n",
       "       12.5387,  9.2977,  6.924 ,  9.702 ,  8.16  ,  9.098 ,  9.0158,\n",
       "        5.212 , 12.271 ])"
      ]
     },
     "execution_count": 65,
     "metadata": {},
     "output_type": "execute_result"
    }
   ],
   "source": [
    "predictedvalues_train"
   ]
  },
  {
   "cell_type": "code",
   "execution_count": 66,
   "metadata": {},
   "outputs": [
    {
     "data": {
      "text/plain": [
       "(156,)"
      ]
     },
     "execution_count": 66,
     "metadata": {},
     "output_type": "execute_result"
    }
   ],
   "source": [
    "predictedvalues_train.shape"
   ]
  },
  {
   "cell_type": "code",
   "execution_count": 67,
   "metadata": {},
   "outputs": [
    {
     "data": {
      "text/plain": [
       "(39,)"
      ]
     },
     "execution_count": 67,
     "metadata": {},
     "output_type": "execute_result"
    }
   ],
   "source": [
    "predictedvalues.shape"
   ]
  },
  {
   "cell_type": "code",
   "execution_count": 68,
   "metadata": {},
   "outputs": [
    {
     "data": {
      "text/plain": [
       "(156, 10)"
      ]
     },
     "execution_count": 68,
     "metadata": {},
     "output_type": "execute_result"
    }
   ],
   "source": [
    "x_train.shape"
   ]
  },
  {
   "cell_type": "code",
   "execution_count": 69,
   "metadata": {},
   "outputs": [
    {
     "data": {
      "text/plain": [
       "(156,)"
      ]
     },
     "execution_count": 69,
     "metadata": {},
     "output_type": "execute_result"
    }
   ],
   "source": [
    "y_train.shape"
   ]
  },
  {
   "cell_type": "code",
   "execution_count": 70,
   "metadata": {},
   "outputs": [
    {
     "data": {
      "text/plain": [
       "(39, 10)"
      ]
     },
     "execution_count": 70,
     "metadata": {},
     "output_type": "execute_result"
    }
   ],
   "source": [
    "x_test.shape"
   ]
  },
  {
   "cell_type": "code",
   "execution_count": 71,
   "metadata": {},
   "outputs": [
    {
     "data": {
      "text/plain": [
       "(39,)"
      ]
     },
     "execution_count": 71,
     "metadata": {},
     "output_type": "execute_result"
    }
   ],
   "source": [
    "y_test.shape"
   ]
  },
  {
   "cell_type": "code",
   "execution_count": 72,
   "metadata": {
    "scrolled": true
   },
   "outputs": [
    {
     "data": {
      "text/plain": [
       "<matplotlib.axes._subplots.AxesSubplot at 0xc454b30>"
      ]
     },
     "execution_count": 72,
     "metadata": {},
     "output_type": "execute_result"
    },
    {
     "data": {
      "image/png": "[encoded data removed]",
      "text/plain": [
       "<Figure size 432x288 with 1 Axes>"
      ]
     },
     "metadata": {
      "needs_background": "light"
     },
     "output_type": "display_data"
    }
   ],
   "source": [
    "sns.regplot(x=y_test,y=predictedvalues,color='g')\n"
   ]
  },
  {
   "cell_type": "code",
   "execution_count": 73,
   "metadata": {},
   "outputs": [
    {
     "data": {
      "text/plain": [
       "<matplotlib.axes._subplots.AxesSubplot at 0xc4ccdf0>"
      ]
     },
     "execution_count": 73,
     "metadata": {},
     "output_type": "execute_result"
    },
    {
     "data": {
      "image/png": "[encoded data removed]",
      "text/plain": [
       "<Figure size 432x288 with 1 Axes>"
      ]
     },
     "metadata": {
      "needs_background": "light"
     },
     "output_type": "display_data"
    }
   ],
   "source": [
    "sns.regplot(x=y_train,y=predictedvalues_train)"
   ]
  },
  {
   "cell_type": "code",
   "execution_count": 74,
   "metadata": {},
   "outputs": [
    {
     "data": {
      "text/plain": [
       "<matplotlib.axes._subplots.AxesSubplot at 0xd4d7450>"
      ]
     },
     "execution_count": 74,
     "metadata": {},
     "output_type": "execute_result"
    },
    {
     "data": {
      "image/png": "[encoded data removed]",
      "text/plain": [
       "<Figure size 432x288 with 1 Axes>"
      ]
     },
     "metadata": {
      "needs_background": "light"
     },
     "output_type": "display_data"
    }
   ],
   "source": [
    "#sns.regplot(x=y_test,y=predictedvalues)\n",
    "\n",
    "sns.regplot(x=y_train,y=predictedvalues_train,color='r',x_estimator=np.mean,x_bins=15)"
   ]
  },
  {
   "cell_type": "code",
   "execution_count": 82,
   "metadata": {},
   "outputs": [
    {
     "data": {
      "text/html": [
       "<div>\n",
       "<style scoped>\n",
       "    .dataframe tbody tr th:only-of-type {\n",
       "        vertical-align: middle;\n",
       "    }\n",
       "\n",
       "    .dataframe tbody tr th {\n",
       "        vertical-align: top;\n",
       "    }\n",
       "\n",
       "    .dataframe thead th {\n",
       "        text-align: right;\n",
       "    }\n",
       "</style>\n",
       "<table border=\"1\" class=\"dataframe\">\n",
       "  <thead>\n",
       "    <tr style=\"text-align: right;\">\n",
       "      <th></th>\n",
       "      <th>Actual</th>\n",
       "      <th>Predicted</th>\n",
       "    </tr>\n",
       "  </thead>\n",
       "  <tbody>\n",
       "    <tr>\n",
       "      <th>42</th>\n",
       "      <td>17.5</td>\n",
       "      <td>10.6060</td>\n",
       "    </tr>\n",
       "    <tr>\n",
       "      <th>167</th>\n",
       "      <td>8.5</td>\n",
       "      <td>10.9482</td>\n",
       "    </tr>\n",
       "    <tr>\n",
       "      <th>64</th>\n",
       "      <td>7.3</td>\n",
       "      <td>6.4400</td>\n",
       "    </tr>\n",
       "    <tr>\n",
       "      <th>35</th>\n",
       "      <td>58.0</td>\n",
       "      <td>22.9641</td>\n",
       "    </tr>\n",
       "    <tr>\n",
       "      <th>127</th>\n",
       "      <td>8.0</td>\n",
       "      <td>10.6284</td>\n",
       "    </tr>\n",
       "    <tr>\n",
       "      <th>131</th>\n",
       "      <td>16.5</td>\n",
       "      <td>11.5620</td>\n",
       "    </tr>\n",
       "    <tr>\n",
       "      <th>146</th>\n",
       "      <td>12.5</td>\n",
       "      <td>16.8187</td>\n",
       "    </tr>\n",
       "    <tr>\n",
       "      <th>45</th>\n",
       "      <td>6.9</td>\n",
       "      <td>8.0730</td>\n",
       "    </tr>\n",
       "    <tr>\n",
       "      <th>37</th>\n",
       "      <td>5.3</td>\n",
       "      <td>6.8720</td>\n",
       "    </tr>\n",
       "    <tr>\n",
       "      <th>103</th>\n",
       "      <td>14.1</td>\n",
       "      <td>17.3034</td>\n",
       "    </tr>\n",
       "    <tr>\n",
       "      <th>28</th>\n",
       "      <td>9.3</td>\n",
       "      <td>10.3020</td>\n",
       "    </tr>\n",
       "    <tr>\n",
       "      <th>24</th>\n",
       "      <td>6.1</td>\n",
       "      <td>7.9780</td>\n",
       "    </tr>\n",
       "    <tr>\n",
       "      <th>69</th>\n",
       "      <td>5.0</td>\n",
       "      <td>8.6964</td>\n",
       "    </tr>\n",
       "    <tr>\n",
       "      <th>178</th>\n",
       "      <td>11.5</td>\n",
       "      <td>18.6623</td>\n",
       "    </tr>\n",
       "    <tr>\n",
       "      <th>148</th>\n",
       "      <td>16.0</td>\n",
       "      <td>11.4840</td>\n",
       "    </tr>\n",
       "    <tr>\n",
       "      <th>51</th>\n",
       "      <td>5.5</td>\n",
       "      <td>8.5900</td>\n",
       "    </tr>\n",
       "    <tr>\n",
       "      <th>93</th>\n",
       "      <td>5.7</td>\n",
       "      <td>5.9530</td>\n",
       "    </tr>\n",
       "    <tr>\n",
       "      <th>40</th>\n",
       "      <td>8.1</td>\n",
       "      <td>7.1700</td>\n",
       "    </tr>\n",
       "    <tr>\n",
       "      <th>135</th>\n",
       "      <td>11.5</td>\n",
       "      <td>10.5547</td>\n",
       "    </tr>\n",
       "    <tr>\n",
       "      <th>121</th>\n",
       "      <td>4.0</td>\n",
       "      <td>7.3990</td>\n",
       "    </tr>\n",
       "    <tr>\n",
       "      <th>13</th>\n",
       "      <td>7.0</td>\n",
       "      <td>8.1460</td>\n",
       "    </tr>\n",
       "    <tr>\n",
       "      <th>173</th>\n",
       "      <td>5.3</td>\n",
       "      <td>8.4920</td>\n",
       "    </tr>\n",
       "    <tr>\n",
       "      <th>99</th>\n",
       "      <td>5.7</td>\n",
       "      <td>7.3990</td>\n",
       "    </tr>\n",
       "    <tr>\n",
       "      <th>176</th>\n",
       "      <td>6.5</td>\n",
       "      <td>7.1417</td>\n",
       "    </tr>\n",
       "    <tr>\n",
       "      <th>58</th>\n",
       "      <td>13.7</td>\n",
       "      <td>11.0230</td>\n",
       "    </tr>\n",
       "    <tr>\n",
       "      <th>171</th>\n",
       "      <td>23.0</td>\n",
       "      <td>15.6290</td>\n",
       "    </tr>\n",
       "    <tr>\n",
       "      <th>164</th>\n",
       "      <td>14.9</td>\n",
       "      <td>6.7370</td>\n",
       "    </tr>\n",
       "    <tr>\n",
       "      <th>44</th>\n",
       "      <td>5.3</td>\n",
       "      <td>6.5670</td>\n",
       "    </tr>\n",
       "    <tr>\n",
       "      <th>77</th>\n",
       "      <td>24.9</td>\n",
       "      <td>22.1138</td>\n",
       "    </tr>\n",
       "    <tr>\n",
       "      <th>34</th>\n",
       "      <td>18.1</td>\n",
       "      <td>15.7752</td>\n",
       "    </tr>\n",
       "    <tr>\n",
       "      <th>139</th>\n",
       "      <td>16.5</td>\n",
       "      <td>14.4664</td>\n",
       "    </tr>\n",
       "    <tr>\n",
       "      <th>115</th>\n",
       "      <td>6.1</td>\n",
       "      <td>6.4800</td>\n",
       "    </tr>\n",
       "    <tr>\n",
       "      <th>67</th>\n",
       "      <td>16.5</td>\n",
       "      <td>11.3410</td>\n",
       "    </tr>\n",
       "    <tr>\n",
       "      <th>157</th>\n",
       "      <td>4.5</td>\n",
       "      <td>8.0620</td>\n",
       "    </tr>\n",
       "    <tr>\n",
       "      <th>160</th>\n",
       "      <td>8.0</td>\n",
       "      <td>9.0850</td>\n",
       "    </tr>\n",
       "    <tr>\n",
       "      <th>18</th>\n",
       "      <td>5.3</td>\n",
       "      <td>8.7637</td>\n",
       "    </tr>\n",
       "    <tr>\n",
       "      <th>94</th>\n",
       "      <td>9.0</td>\n",
       "      <td>10.6194</td>\n",
       "    </tr>\n",
       "    <tr>\n",
       "      <th>143</th>\n",
       "      <td>8.9</td>\n",
       "      <td>8.1250</td>\n",
       "    </tr>\n",
       "    <tr>\n",
       "      <th>112</th>\n",
       "      <td>35.0</td>\n",
       "      <td>11.6004</td>\n",
       "    </tr>\n",
       "  </tbody>\n",
       "</table>\n",
       "</div>"
      ],
      "text/plain": [
       "     Actual  Predicted\n",
       "42     17.5    10.6060\n",
       "167     8.5    10.9482\n",
       "64      7.3     6.4400\n",
       "35     58.0    22.9641\n",
       "127     8.0    10.6284\n",
       "131    16.5    11.5620\n",
       "146    12.5    16.8187\n",
       "45      6.9     8.0730\n",
       "37      5.3     6.8720\n",
       "103    14.1    17.3034\n",
       "28      9.3    10.3020\n",
       "24      6.1     7.9780\n",
       "69      5.0     8.6964\n",
       "178    11.5    18.6623\n",
       "148    16.0    11.4840\n",
       "51      5.5     8.5900\n",
       "93      5.7     5.9530\n",
       "40      8.1     7.1700\n",
       "135    11.5    10.5547\n",
       "121     4.0     7.3990\n",
       "13      7.0     8.1460\n",
       "173     5.3     8.4920\n",
       "99      5.7     7.3990\n",
       "176     6.5     7.1417\n",
       "58     13.7    11.0230\n",
       "171    23.0    15.6290\n",
       "164    14.9     6.7370\n",
       "44      5.3     6.5670\n",
       "77     24.9    22.1138\n",
       "34     18.1    15.7752\n",
       "139    16.5    14.4664\n",
       "115     6.1     6.4800\n",
       "67     16.5    11.3410\n",
       "157     4.5     8.0620\n",
       "160     8.0     9.0850\n",
       "18      5.3     8.7637\n",
       "94      9.0    10.6194\n",
       "143     8.9     8.1250\n",
       "112    35.0    11.6004"
      ]
     },
     "execution_count": 82,
     "metadata": {},
     "output_type": "execute_result"
    }
   ],
   "source": [
    "df = pd.DataFrame({'Actual': y_test, 'Predicted': predictedvalues})\n",
    "df\n"
   ]
  },
  {
   "cell_type": "code",
   "execution_count": 94,
   "metadata": {},
   "outputs": [],
   "source": [
    "from sklearn.metrics import explained_variance_score\n",
    "from sklearn.metrics import max_error\n",
    "from sklearn.metrics import mean_absolute_error\n",
    "from sklearn.metrics import mean_squared_error\n",
    "from sklearn.metrics import median_absolute_error\n",
    "from sklearn.metrics import r2_score"
   ]
  },
  {
   "cell_type": "code",
   "execution_count": 105,
   "metadata": {},
   "outputs": [
    {
     "name": "stdout",
     "output_type": "stream",
     "text": [
      "Explained Variance Score: 0.4383137459860075\n",
      "Maximum Error 35.0359\n",
      "Mean Absolute Error 4.171502564102565\n",
      "Mean Squared Error 57.02220268564103\n",
      "Median Absolute Error 2.628400000000001\n"
     ]
    }
   ],
   "source": [
    "print(\"Explained Variance Score:\",explained_variance_score(y_test,predictedvalues))\n",
    "print(\"Maximum Error\",max_error(y_test,predictedvalues))\n",
    "print(\"Mean Absolute Error\",mean_absolute_error(y_test,predictedvalues))\n",
    "print(\"Mean Squared Error\",mean_squared_error(y_test,predictedvalues))\n",
    "print(\"Median Absolute Error\",median_absolute_error(y_test,predictedvalues))\n",
    "\n"
   ]
  }
 ],
 "metadata": {
  "kernelspec": {
   "display_name": "Python 3",
   "language": "python",
   "name": "python3"
  },
  "language_info": {
   "codemirror_mode": {
    "name": "ipython",
    "version": 3
   },
   "file_extension": ".py",
   "mimetype": "text/x-python",
   "name": "python",
   "nbconvert_exporter": "python",
   "pygments_lexer": "ipython3",
   "version": "3.7.4"
  }
 },
 "nbformat": 4,
 "nbformat_minor": 1
}
